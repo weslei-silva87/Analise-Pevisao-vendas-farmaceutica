{
  "nbformat": 4,
  "nbformat_minor": 0,
  "metadata": {
    "colab": {
      "provenance": [],
      "authorship_tag": "ABX9TyNXgK/VTjdOnlfCCiBDhG9t",
      "include_colab_link": true
    },
    "kernelspec": {
      "name": "python3",
      "display_name": "Python 3"
    },
    "language_info": {
      "name": "python"
    }
  },
  "cells": [
    {
      "cell_type": "markdown",
      "metadata": {
        "id": "view-in-github",
        "colab_type": "text"
      },
      "source": [
        "<a href=\"https://colab.research.google.com/github/weslei-silva87/Analise-Pevisao-vendas-farmaceutica/blob/main/Farmacia.ipynb\" target=\"_parent\"><img src=\"https://colab.research.google.com/assets/colab-badge.svg\" alt=\"Open In Colab\"/></a>"
      ]
    },
    {
      "cell_type": "code",
      "execution_count": null,
      "metadata": {
        "id": "map4P8ck29Qm"
      },
      "outputs": [],
      "source": [
        "import plotly.graph_objs as go\n",
        "import matplotlib.pyplot as plt\n",
        "import pandas as pd\n",
        "import seaborn as sns\n",
        "import numpy as np\n",
        "from sklearn.model_selection import train_test_split\n",
        "from sklearn.linear_model import LinearRegression\n",
        "from sklearn.tree import DecisionTreeRegressor\n",
        "from sklearn.metrics import mean_absolute_error, mean_squared_error, r2_score\n",
        "\n"
      ]
    },
    {
      "cell_type": "code",
      "source": [
        "tabela = pd.read_csv('/content/sales mensal.csv')\n",
        "display(tabela)"
      ],
      "metadata": {
        "id": "Pg9WRR-P3EB1"
      },
      "execution_count": null,
      "outputs": []
    },
    {
      "cell_type": "markdown",
      "source": [
        "Plotando Grafico"
      ],
      "metadata": {
        "id": "DPqddFYM3bCf"
      }
    },
    {
      "cell_type": "code",
      "source": [
        "# lista com todas as médias e seus respectivos nomes\n",
        "medias = [media_M01AB, media_M01AE, media_N02BA, media_N02BE, media_N05B, media_N05C, media_R03, media_R06]\n",
        "nomes_medicamentos = ['M01AB', 'M01AE', 'N02BA', 'N02BE', 'N05B', 'N05C', 'R03', 'R06']\n",
        "\n",
        "# figura e eixos para os subplots\n",
        "fig, axs = plt.subplots(2, 4, figsize=(20, 10))\n",
        "\n",
        "# Plote os gráficos para cada medicamento\n",
        "for i, media in enumerate(medias):\n",
        "    linha = i // 4\n",
        "    coluna = i % 4\n",
        "    axs[linha, coluna].plot(media.index, media.values, marker='o', linestyle='-')\n",
        "    axs[linha, coluna].set_title(f'Média de demanda para o medicamento {nomes_medicamentos[i]} por ano')\n",
        "    axs[linha, coluna].set_xlabel('Ano')\n",
        "    axs[linha, coluna].set_ylabel('Média de demanda')\n",
        "\n",
        "# Ajuste o layout para evitar sobreposição de texto\n",
        "plt.tight_layout()\n",
        "\n",
        "# Exiba o gráfico\n",
        "plt.show()\n",
        "\n"
      ],
      "metadata": {
        "id": "_yEH5joP3efn"
      },
      "execution_count": null,
      "outputs": []
    },
    {
      "cell_type": "markdown",
      "source": [
        "Medicamentos Crescimento e Queda\n"
      ],
      "metadata": {
        "id": "UiDNEwZW3u7v"
      }
    },
    {
      "cell_type": "code",
      "source": [
        "# Inicializando a lista de resultados\n",
        "resultados = []\n",
        "\n",
        "# Verificando se cada medicamento aumentou ou diminuiu sua demanda\n",
        "for medicamento, demanda_final in media_demandas.items():\n",
        "    demanda_inicial = tabela_nova.iloc[0][medicamento]  # Demanda no primeiro ano\n",
        "\n",
        "    if demanda_final > demanda_inicial:\n",
        "        aumento_percentual = ((demanda_final - demanda_inicial) / demanda_inicial) * 100\n",
        "        resultados.append((medicamento, aumento_percentual))\n",
        "    elif demanda_final < demanda_inicial:\n",
        "        diminuicao_percentual = ((demanda_inicial - demanda_final) / demanda_inicial) * 100\n",
        "        resultados.append((medicamento, -diminuicao_percentual))\n",
        "    else:\n",
        "        resultados.append((medicamento, 0))\n",
        "\n",
        "# Plotando o gráfico de barras\n",
        "fig, ax = plt.subplots(figsize=(10, 6))\n",
        "barras = ax.bar([x[0] for x in resultados], [x[1] for x in resultados], color=['red' if x[1] < 0 else 'blue' for x in resultados])\n",
        "\n",
        "# Adicionando os valores nas barras\n",
        "for i, barra in enumerate(barras):\n",
        "    altura = barra.get_height()\n",
        "    ax.annotate('{:.2f}%'.format(altura),\n",
        "                xy=(barra.get_x() + barra.get_width() / 2, altura),\n",
        "                xytext=(0, 3),\n",
        "                textcoords=\"offset points\",\n",
        "                ha='center', va='bottom')\n",
        "\n",
        "# Definindo rótulos e título\n",
        "ax.set_ylabel('Variação Percentual')\n",
        "ax.set_title('Variação Percentual da Demanda de Medicamentos')\n",
        "plt.xticks(rotation=45, ha='right')\n",
        "\n",
        "plt.show()\n"
      ],
      "metadata": {
        "id": "b19N9WEJ3h3e"
      },
      "execution_count": null,
      "outputs": []
    },
    {
      "cell_type": "markdown",
      "source": [
        "Analise de sazonalidade\n"
      ],
      "metadata": {
        "id": "f9VK2pmv35f2"
      }
    },
    {
      "cell_type": "code",
      "source": [
        "\n",
        "# Agrupando os dados por ano e mês e somando as vendas\n",
        "vendas_ano = tabela_nova.groupby(['ano', 'mes']).sum()\n",
        "\n",
        "# Criando um DataFrame para facilitar a manipulação dos dados\n",
        "df_vendas = vendas_ano.reset_index()\n",
        "\n",
        "# Criando o gráfico interativo\n",
        "fig = go.Figure()\n",
        "\n",
        "# Adicionando uma linha para cada ano\n",
        "for ano in df_vendas['ano'].unique():\n",
        "    df_ano = df_vendas[df_vendas['ano'] == ano]\n",
        "    fig.add_trace(go.Scatter(x=df_ano['mes'], y=df_ano['Faturamento'], mode='lines+markers', name=str(ano)))\n",
        "\n",
        "# Adicionando layout ao gráfico\n",
        "fig.update_layout(title='Vendas ao longo do tempo',\n",
        "                  xaxis_title='Mês',\n",
        "                  yaxis_title='Faturamento',\n",
        "                  legend_title='Ano')\n",
        "\n",
        "# Exibindo o gráfico\n",
        "fig.show()\n"
      ],
      "metadata": {
        "id": "4JIqGDTi4A4V"
      },
      "execution_count": null,
      "outputs": []
    },
    {
      "cell_type": "markdown",
      "source": [
        " Quais as classes de medicamentos mais e menos vendidos por mês?¶"
      ],
      "metadata": {
        "id": "SNLXMS6r4I_k"
      }
    },
    {
      "cell_type": "code",
      "source": [
        "\n",
        "# Definindo as colunas de medicamentos\n",
        "medicamentos = ['M01AB', 'M01AE', 'N02BA', 'N02BE', 'N05B', 'N05C', 'R03', 'R06']\n",
        "\n",
        "# Calculando a soma de vendas de cada medicamento por mês\n",
        "vendas_por_mes = tabela_nova.groupby(['mes', 'ano'])[medicamentos].sum()\n",
        "\n",
        "# Calculando os medicamentos mais e menos vendidos por mês\n",
        "mais_vendidos_por_mes = vendas_por_mes.idxmax(axis=1)\n",
        "menos_vendidos_por_mes = vendas_por_mes.idxmin(axis=1)\n",
        "\n",
        "# Calculando a porcentagem de vendas de cada medicamento\n",
        "total_vendas = vendas_por_mes.sum(axis=1)\n",
        "percentual_mais_vendidos = (vendas_por_mes.max(axis=1) / total_vendas) * 100\n",
        "percentual_menos_vendidos = (vendas_por_mes.min(axis=1) / total_vendas) * 100\n",
        "\n",
        "# Criando um DataFrame para exibir os resultados como tabela\n",
        "resultados = pd.DataFrame({\n",
        "    'Medicamentos mais vendidos': mais_vendidos_por_mes,\n",
        "    'Porcentagem mais vendidos (%)': percentual_mais_vendidos,\n",
        "    'Medicamentos menos vendidos': menos_vendidos_por_mes,\n",
        "    'Porcentagem menos vendidos (%)': percentual_menos_vendidos\n",
        "})\n",
        "\n",
        "# Exibindo os resultados como tabela\n",
        "print(\"Resultados:\")\n",
        "print(resultados)"
      ],
      "metadata": {
        "id": "oU0XEaWU4Ly-"
      },
      "execution_count": null,
      "outputs": []
    },
    {
      "cell_type": "code",
      "source": [
        "Modelo Preditivo"
      ],
      "metadata": {
        "id": "HoJLpbMA4bBi"
      },
      "execution_count": null,
      "outputs": []
    },
    {
      "cell_type": "code",
      "source": [
        "\n",
        "# Definir as colunas de recursos\n",
        "colunas_classes = ['M01AB', 'M01AE', 'N02BA', 'N02BE', 'N05B', 'N05C', 'R03', 'R06']\n",
        "\n",
        "# Definir a coluna de alvo (vendas totais ou faturamento)\n",
        "alvo = 'Faturamento'\n",
        "\n",
        "# Dividir os dados em conjuntos de treinamento e teste\n",
        "X_train, X_test, y_train, y_test = train_test_split(tabela_nova[colunas_classes], tabela_nova[alvo], test_size=0.2, random_state=42)\n",
        "\n",
        "# Inicializar os modelos de regressão\n",
        "modelo_linear = LinearRegression()\n",
        "modelo_arvore = DecisionTreeRegressor()\n",
        "\n",
        "# Treinar os modelos\n",
        "modelo_linear.fit(X_train, y_train)\n",
        "modelo_arvore.fit(X_train, y_train)\n",
        "\n",
        "# Fazer previsões nos conjuntos de teste\n",
        "predicoes_linear = modelo_linear.predict(X_test)\n",
        "predicoes_arvore = modelo_arvore.predict(X_test)\n",
        "\n",
        "# Avaliar os modelos usando métricas de erro\n",
        "mae_linear = mean_absolute_error(y_test, predicoes_linear)\n",
        "mse_linear = mean_squared_error(y_test, predicoes_linear)\n",
        "mae_arvore = mean_absolute_error(y_test, predicoes_arvore)\n",
        "mse_arvore = mean_squared_error(y_test, predicoes_arvore)\n",
        "\n",
        "# Imprimir os resultados\n",
        "print(\"Resultados do Modelo de Regressão Linear:\")\n",
        "print(\"MAE:\", mae_linear)\n",
        "print(\"MSE:\", mse_linear)\n",
        "print(\"\\nResultados do Modelo de Árvore de Decisão:\")\n",
        "print(\"MAE:\", mae_arvore)\n",
        "print(\"MSE:\", mse_arvore)"
      ],
      "metadata": {
        "id": "isF1p68C4ecU"
      },
      "execution_count": null,
      "outputs": []
    },
    {
      "cell_type": "markdown",
      "source": [
        "Previsões de faturamento"
      ],
      "metadata": {
        "id": "uAEWdg_L4gkC"
      }
    },
    {
      "cell_type": "code",
      "source": [
        "# Criar o gráfico de barras\n",
        "plt.figure(figsize=(10, 6))\n",
        "plt.bar(classes, faturamento_previsto, color='skyblue')\n",
        "\n",
        "# Adicionar os valores acima das barras\n",
        "for i, valor in enumerate(faturamento_previsto):\n",
        "    plt.text(i, valor + 0.1, str(valor), ha='center', va='bottom')\n",
        "\n",
        "# Configurações do gráfico\n",
        "plt.xlabel('Classes de Medicamentos')\n",
        "plt.ylabel('Faturamento Previsto')\n",
        "plt.title('Faturamento Previsto por Classe de Medicamento')\n",
        "plt.xticks(rotation=45)\n",
        "plt.grid(axis='y')\n",
        "\n",
        "# Mostrar o gráfico\n",
        "plt.tight_layout()\n",
        "plt.show()\n",
        "\n",
        "# Imprimir o faturamento previsto\n",
        "print(\"Faturamento Previsto:\", faturamento_previsto)"
      ],
      "metadata": {
        "id": "Y7AhDnqu4wIX"
      },
      "execution_count": null,
      "outputs": []
    }
  ]
}