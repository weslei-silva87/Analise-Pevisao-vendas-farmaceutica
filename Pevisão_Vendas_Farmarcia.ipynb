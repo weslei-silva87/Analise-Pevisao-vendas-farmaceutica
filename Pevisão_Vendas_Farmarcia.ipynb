{
  "nbformat": 4,
  "nbformat_minor": 0,
  "metadata": {
    "colab": {
      "provenance": [],
      "authorship_tag": "ABX9TyO3TFKtqb4QjZyS2URHBiJD",
      "include_colab_link": true
    },
    "kernelspec": {
      "name": "python3",
      "display_name": "Python 3"
    },
    "language_info": {
      "name": "python"
    }
  },
  "cells": [
    {
      "cell_type": "markdown",
      "metadata": {
        "id": "view-in-github",
        "colab_type": "text"
      },
      "source": [
        "<a href=\"https://colab.research.google.com/github/weslei-silva87/Pevisao-vendas-farmac-uticas/blob/main/Pevis%C3%A3o_Vendas_Farmarcia.ipynb\" target=\"_parent\"><img src=\"https://colab.research.google.com/assets/colab-badge.svg\" alt=\"Open In Colab\"/></a>"
      ]
    },
    {
      "cell_type": "markdown",
      "source": [
        "Nosso objetivo é avaliar a venda de diferentes medicamentos, de modo a conseguir capturar alguns insigths importantes como:\n",
        "\n",
        "1. Quais classes de medicamentos apresentaram aumento ou diminuição de demanda entre 2014 e 2019?\n",
        "2. Quais os meses com mais e menos vendas?\n",
        "3. Quais as classes de medicamentos mais e menos vendidos por mês?¶\n",
        "4. Existe correlação entre a venda mensal de determinadas classes de medicamentos?\n",
        "5. Relizar previsão de vendas dos medicamenos\n",
        "6. Realizar prescrição da analise"
      ],
      "metadata": {
        "id": "yIBarCFKQeKM"
      }
    },
    {
      "cell_type": "code",
      "source": [],
      "metadata": {
        "id": "GwF8hIByQXxr"
      },
      "execution_count": null,
      "outputs": []
    }
  ]
}